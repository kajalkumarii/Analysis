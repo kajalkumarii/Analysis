{
 "cells": [
  {
   "cell_type": "code",
   "execution_count": 1,
   "metadata": {},
   "outputs": [],
   "source": [
    "from typing import List\n",
    "import pandas as pd\n",
    "import numpy as np\n",
    "import glob\n",
    "import matplotlib.pyplot as plt\n",
    "from scipy.signal import find_peaks\n",
    "import os\n",
    "import gzip\n",
    "from tqdm import tqdm\n",
    "import seaborn as sns\n",
    "import natsort"
   ]
  },
  {
   "cell_type": "code",
   "execution_count": 2,
   "metadata": {},
   "outputs": [],
   "source": [
    "def read_files(folder_path):\n",
    "    all_files = glob.glob(os.path.join(folder_path, \"*.csv.gz\"))\n",
    "    all_files = natsort.natsorted(all_files)  # Natural sort files\n",
    "\n",
    "    fish_data = {}\n",
    "\n",
    "    for file_path in all_files:\n",
    "        filename = os.path.basename(file_path)\n",
    "        fish_id, trial_id = filename.split('_')[0], filename.split('_')[1]\n",
    "\n",
    "        # Only process the first 3 trials for each fish\n",
    "        if fish_id not in fish_data:\n",
    "            fish_data[fish_id] = {}\n",
    "        if trial_id not in fish_data[fish_id] and len(fish_data[fish_id]) < 3:\n",
    "            fish_data[fish_id][trial_id] = file_path\n",
    "\n",
    "    # Debug: Print out the files being processed for each fish\n",
    "    for fish_id, trials in fish_data.items():\n",
    "        print(f\"Fish ID: {fish_id}, Trials: {list(trials.keys())}\")\n",
    "\n",
    "    return fish_data"
   ]
  },
  {
   "cell_type": "code",
   "execution_count": 3,
   "metadata": {},
   "outputs": [],
   "source": [
    "def calculate_angles_at_peaks_efficient(df, peaks):\n",
    "\n",
    "    angles = []\n",
    "    for i in range(1, len(peaks)):\n",
    "        # Get the index of the current and previous peak\n",
    "        prev_peak, current_peak = peaks[i-1], peaks[i]  # Get the index of the current and previous peak\n",
    "\n",
    "        # Calculate the velocity vectors at the two peaks\n",
    "        v1 = df.loc[prev_peak, ['dx', 'dy', 'dz']]\n",
    "        v2 = df.loc[current_peak, ['dx', 'dy', 'dz']]\n",
    "\n",
    "        # Handle case where either vector is zero (to avoid division by zero)\n",
    "        if np.linalg.norm(v1) == 0 or np.linalg.norm(v2) == 0:\n",
    "            angles.append(np.nan)  # Append NaN for undefined angles\n",
    "            continue\n",
    "\n",
    "        # Normalize the vectors\n",
    "        v1_norm = v1 / np.linalg.norm(v1)\n",
    "        v2_norm = v2 / np.linalg.norm(v2)\n",
    "\n",
    "        # Calculate the angle between the vectors\n",
    "        dot_product = np.clip(np.dot(v1_norm, v2_norm), -1.0, 1.0)  # Clipping for numerical stability\n",
    "        angle = np.arccos(dot_product)  # Angle in radians\n",
    "\n",
    "        # Convert to degrees\n",
    "        angle_degrees = np.degrees(angle)\n",
    "\n",
    "        # Append to the list of angles\n",
    "        angles.append(angle_degrees)\n",
    "\n",
    "    return angles"
   ]
  },
  {
   "cell_type": "code",
   "execution_count": 4,
   "metadata": {},
   "outputs": [],
   "source": [
    "def find_velocity_peaks(df, fHz):\n",
    "    height_min, height_max = 0.1, 0.5\n",
    "    distance = round(fHz / 10)\n",
    "    width = round(fHz / 100)\n",
    "    prominence = 0.03\n",
    "\n",
    "    peaks, properties = find_peaks(df['velocity'], height=(height_min, height_max), \n",
    "                                   distance=distance, width=width, prominence=prominence)\n",
    "    \n",
    "    print(f\"Found {len(peaks)} peaks\")\n",
    "    return peaks, properties\n"
   ]
  },
  {
   "cell_type": "code",
   "execution_count": 5,
   "metadata": {},
   "outputs": [],
   "source": [
    "def process_file(file_path, fHz):\n",
    "    df = pd.read_csv(file_path, compression='gzip')#, nrows=2000)\n",
    "    fHz=100\n",
    "    # Preprocessing and velocity calculation\n",
    "    df['dx'] = df['fishx'].diff().fillna(0)\n",
    "    df['dy'] = df['fishy'].diff().fillna(0)\n",
    "    df['dz'] = df['fishz'].diff().fillna(0)\n",
    "    df['velocity'] = np.sqrt(df['dx']**2 + df['dy']**2 + df['dz']**2) / (1/fHz)\n",
    "    \n",
    "    # Find peaks\n",
    "    peaks, properties = find_velocity_peaks(df, fHz)\n",
    "    \n",
    "    # Calculate angles at peaks\n",
    "    peak_angles = calculate_angles_at_peaks_efficient(df, peaks)\n",
    "    angle_differences = np.diff(peak_angles)\n",
    "    \n",
    "    # Calculate turning bias\n",
    "    turn_bias = np.sign(angle_differences)\n",
    "\n",
    "\n",
    "    return df, peaks, peak_angles, angle_differences, turn_bias\n"
   ]
  },
  {
   "cell_type": "code",
   "execution_count": 6,
   "metadata": {},
   "outputs": [],
   "source": [
    "def aggregate_results(fish_data, fHz):\n",
    "    aggregated_data = {}\n",
    "\n",
    "    for fish_id, trials in fish_data.items():\n",
    "        aggregated_data[fish_id] = {'turn_bias_per_trial': {}}\n",
    "        for trial_id, file_path in trials.items():\n",
    "            _, _, _, _, turn_bias = process_file(file_path, fHz)\n",
    "            left_turns = np.sum(np.array(turn_bias) == -1)\n",
    "            right_turns = np.sum(np.array(turn_bias) == 1)\n",
    "            total_turns = len(turn_bias)\n",
    "            left_turn_prop = left_turns / total_turns if total_turns > 0 else 0\n",
    "            right_turn_prop = right_turns / total_turns if total_turns > 0 else 0\n",
    "            aggregated_data[fish_id]['turn_bias_per_trial'][trial_id] = {\n",
    "                'left_turn_prop': left_turn_prop,\n",
    "                'right_turn_prop': right_turn_prop\n",
    "            }\n",
    "\n",
    "    return aggregated_data"
   ]
  },
  {
   "cell_type": "code",
   "execution_count": 7,
   "metadata": {},
   "outputs": [],
   "source": [
    "def plot_statistics(aggregated_data, overall_avg_velocity, overall_var_velocity):\n",
    "    fish_ids = []\n",
    "    avg_velocities = []\n",
    "    var_velocities = []\n",
    "\n",
    "    for fish_id, data in aggregated_data.items():\n",
    "        fish_ids.append(fish_id)\n",
    "        avg_velocities.append(data['avg_velocity'])\n",
    "        var_velocities.append(data['var_velocity'])\n",
    "\n",
    "    # Plotting individual fish statistics\n",
    "    plt.figure(figsize=(14, 6))\n",
    "    plt.subplot(1, 2, 1)\n",
    "    sns.barplot(x=fish_ids, y=avg_velocities)\n",
    "    plt.title('Average Velocity by Fish')\n",
    "    plt.xlabel('Fish ID')\n",
    "    plt.ylabel('Average Velocity (m/s)')\n",
    "\n",
    "    plt.subplot(1, 2, 2)\n",
    "    sns.barplot(x=fish_ids, y=var_velocities)\n",
    "    plt.title('Variance of Velocity by Fish')\n",
    "    plt.xlabel('Fish ID')\n",
    "    plt.ylabel('Variance of Velocity (m/s²)')\n",
    "\n",
    "    plt.tight_layout()\n",
    "    plt.show()\n",
    "\n",
    "    # Plotting population level statistics\n",
    "    plt.figure(figsize=(7, 5))\n",
    "    plt.bar(['Population'], [overall_avg_velocity], yerr=[np.sqrt(overall_var_velocity)])\n",
    "    plt.title('Population Level Average Velocity')\n",
    "    plt.ylabel('Average Velocity (m/s)')\n",
    "    plt.show()"
   ]
  },
  {
   "cell_type": "code",
   "execution_count": 8,
   "metadata": {},
   "outputs": [],
   "source": [
    "def plot_turning_bias(aggregated_data):\n",
    "    fish_ids = []\n",
    "    avg_left_turn_props = []\n",
    "    avg_right_turn_props = []\n",
    "\n",
    "    for fish_id, data in aggregated_data.items():\n",
    "        fish_ids.append(fish_id)\n",
    "\n",
    "        left_turn_props = [trial_data['left_turn_prop'] for trial_data in data['turn_bias_per_trial'].values()]\n",
    "        right_turn_props = [trial_data['right_turn_prop'] for trial_data in data['turn_bias_per_trial'].values()]\n",
    "\n",
    "        avg_left_turn_props.append(sum(left_turn_props) / len(left_turn_props) if left_turn_props else 0)\n",
    "        avg_right_turn_props.append(sum(right_turn_props) / len(right_turn_props) if right_turn_props else 0)\n",
    "\n",
    "    # Plotting\n",
    "    plt.figure(figsize=(10, 5))\n",
    "    plt.bar(fish_ids, avg_left_turn_props, label='Average Left Turn Proportion')\n",
    "    plt.bar(fish_ids, avg_right_turn_props, bottom=avg_left_turn_props, label='Average Right Turn Proportion')\n",
    "    plt.xlabel('Fish ID')\n",
    "    plt.ylabel('Turn Proportion')\n",
    "    plt.title('Average Turn Bias per Fish')\n",
    "    plt.xticks(range(len(fish_ids)), labels=fish_ids)\n",
    "    plt.legend()\n",
    "    plt.show()\n"
   ]
  },
  {
   "cell_type": "code",
   "execution_count": 9,
   "metadata": {},
   "outputs": [],
   "source": [
    "def plot_turn_bias_per_trial(aggregated_data):\n",
    "    for fish_id, data in aggregated_data.items():\n",
    "        trials = data['turn_bias_per_trial']\n",
    "        left_turn_props = [trial_data['left_turn_prop'] for trial_data in trials.values()]\n",
    "        right_turn_props = [trial_data['right_turn_prop'] for trial_data in trials.values()]\n",
    "        \n",
    "        # Plotting\n",
    "        plt.figure(figsize=(10, 5))\n",
    "        plt.bar(range(len(trials)), left_turn_props, label='Left Turn Proportion')\n",
    "        plt.bar(range(len(trials)), right_turn_props, bottom=left_turn_props, label='Right Turn Proportion')\n",
    "        plt.xlabel('Trials')\n",
    "        plt.ylabel('Turn Proportion')\n",
    "        plt.title(f'Turn Bias per Trial for Fish {fish_id}')\n",
    "        plt.xticks(range(len(trials)), labels=trials.keys())\n",
    "        plt.legend()\n",
    "        plt.show()\n"
   ]
  },
  {
   "cell_type": "code",
   "execution_count": 10,
   "metadata": {},
   "outputs": [],
   "source": [
    "def plot_turn_bias_boxplot(aggregated_data):\n",
    "    plot_data = {'Fish ID': [], 'Trial': [], 'Left Turn Proportion': [], 'Right Turn Proportion': []}\n",
    "    for fish_id, data in aggregated_data.items():\n",
    "        for trial_id, trial_data in data['turn_bias_per_trial'].items():\n",
    "            plot_data['Fish ID'].append(fish_id)\n",
    "            plot_data['Trial'].append(trial_id)\n",
    "            plot_data['Left Turn Proportion'].append(trial_data['left_turn_prop'])\n",
    "            plot_data['Right Turn Proportion'].append(trial_data['right_turn_prop'])\n",
    "\n",
    "    df_plot = pd.DataFrame(plot_data)\n",
    "\n",
    "    # Plotting\n",
    "    plt.figure(figsize=(12, 6))\n",
    "    sns.boxplot(x='Fish ID', y='Left Turn Proportion', data=df_plot, palette=\"Set3\")\n",
    "    sns.boxplot(x='Fish ID', y='Right Turn Proportion', data=df_plot, palette=\"Set1\")\n",
    "    plt.title('Turn Bias Distribution by Fish')\n",
    "    plt.xlabel('Fish ID')\n",
    "    plt.ylabel('Turn Proportion')\n",
    "    plt.show()\n"
   ]
  },
  {
   "cell_type": "code",
   "execution_count": 11,
   "metadata": {},
   "outputs": [],
   "source": [
    "def plot_combined(aggregated_data):\n",
    "    plot_data = []\n",
    "    for fish_id, data in aggregated_data.items():\n",
    "        for trial_id, trial_data in data['turn_bias_per_trial'].items():\n",
    "            plot_data.append({\n",
    "                'Fish ID': fish_id,\n",
    "                'Trial': trial_id,\n",
    "                'Left Turn Proportion': trial_data['left_turn_prop'],\n",
    "                'Right Turn Proportion': trial_data['right_turn_prop']\n",
    "            })\n",
    "\n",
    "    df_plot = pd.DataFrame(plot_data)\n",
    "\n",
    "    # Plotting Left Turn Proportion\n",
    "    plt.figure(figsize=(12, 6))\n",
    "    sns.boxplot(x='Fish ID', y='Left Turn Proportion', data=df_plot, palette=\"Set3\")\n",
    "    sns.swarmplot(x='Fish ID', y='Left Turn Proportion', data=df_plot, color=\".25\")\n",
    "    plt.title('Left Turn Proportion by Fish and Trial')\n",
    "    plt.xlabel('Fish ID')\n",
    "    plt.ylabel('Left Turn Proportion')\n",
    "    plt.show()\n",
    "\n",
    "    # Plotting Right Turn Proportion\n",
    "    plt.figure(figsize=(12, 6))\n",
    "    sns.boxplot(x='Fish ID', y='Right Turn Proportion', data=df_plot, palette=\"Set3\")\n",
    "    sns.swarmplot(x='Fish ID', y='Right Turn Proportion', data=df_plot, color=\".25\")\n",
    "    plt.title('Right Turn Proportion by Fish and Trial')\n",
    "    plt.xlabel('Fish ID')\n",
    "    plt.ylabel('Right Turn Proportion')\n",
    "    plt.show()\n"
   ]
  },
  {
   "cell_type": "code",
   "execution_count": 12,
   "metadata": {},
   "outputs": [],
   "source": [
    "\n",
    "def plot_velocity_with_detected_peaks(df, peaks):\n",
    "    plt.figure(figsize=(30, 10))\n",
    "    plt.plot(df['velocity'], label='Velocity')\n",
    "    plt.plot(peaks, df['velocity'][peaks], \"x\", label='Peaks')\n",
    "    plt.title(\"Velocity with Detected Peaks\")\n",
    "    plt.xlabel(\"Frame\")\n",
    "    plt.ylabel(\"Velocity\")\n",
    "    plt.legend()\n",
    "    plt.show()"
   ]
  },
  {
   "cell_type": "code",
   "execution_count": 13,
   "metadata": {},
   "outputs": [
    {
     "name": "stdout",
     "output_type": "stream",
     "text": [
      "Fish ID: 01, Trials: ['T1', 'T2', 'T3']\n",
      "Fish ID: 02, Trials: ['T1', 'T2', 'T3']\n",
      "Fish ID: 03, Trials: ['T1', 'T2', 'T4']\n",
      "Fish ID: 04, Trials: ['T1', 'T2', 'T3']\n",
      "Fish ID: 05, Trials: ['T1', 'T2', 'T3']\n",
      "Fish ID: 06, Trials: ['T1', 'T2', 'T3']\n",
      "Fish ID: 07, Trials: ['T1', 'T2', 'T3']\n",
      "Fish ID: 08, Trials: ['T1', 'T2', 'T3']\n",
      "Fish ID: 09, Trials: ['T1', 'T2', 'T3']\n",
      "Fish ID: 10, Trials: ['T1', 'T2', 'T3']\n",
      "Fish ID: 11, Trials: ['T1', 'T2', 'T3']\n",
      "Fish ID: 12, Trials: ['T1', 'T2', 'T3']\n",
      "Fish ID: 13, Trials: ['T1', 'T2', 'T3']\n",
      "Fish ID: 14, Trials: ['T1', 'T2', 'T3']\n",
      "Fish ID: 15, Trials: ['T1', 'T2', 'T3']\n",
      "Fish ID: 16, Trials: ['T1', 'T2', 'T3']\n",
      "Found 22966 peaks\n"
     ]
    }
   ],
   "source": [
    "# Assuming process_file returns the required elements correctly\n",
    "fHz = 100  # Frames per second\n",
    "folder_path = \"/home/kkumari/PhD/fish-data/long-term-free-swim/\"\n",
    "fish_data = read_files(folder_path)\n",
    "# Select an example file (assuming fish_data contains paths)\n",
    "example_file = next(iter(fish_data[next(iter(fish_data))].values()))\n",
    "df_example, peaks, _, _, _ = process_file(example_file, fHz)\n",
    "# plot_velocity_with_detected_peaks(df_example, peaks)\n"
   ]
  },
  {
   "cell_type": "code",
   "execution_count": 14,
   "metadata": {},
   "outputs": [
    {
     "name": "stdout",
     "output_type": "stream",
     "text": [
      "Found 22966 peaks\n",
      "Found 17358 peaks\n",
      "Found 23886 peaks\n",
      "Found 21639 peaks\n",
      "Found 23738 peaks\n",
      "Found 24074 peaks\n",
      "Found 19773 peaks\n",
      "Found 21808 peaks\n",
      "Found 27215 peaks\n",
      "Found 20925 peaks\n",
      "Found 20577 peaks\n",
      "Found 20187 peaks\n",
      "Found 17423 peaks\n",
      "Found 21658 peaks\n",
      "Found 24274 peaks\n",
      "Found 17624 peaks\n",
      "Found 19371 peaks\n",
      "Found 19867 peaks\n",
      "Found 21569 peaks\n",
      "Found 24094 peaks\n",
      "Found 25790 peaks\n",
      "Found 22120 peaks\n",
      "Found 23355 peaks\n",
      "Found 22936 peaks\n",
      "Found 13420 peaks\n",
      "Found 14839 peaks\n",
      "Found 19090 peaks\n",
      "Found 17254 peaks\n",
      "Found 18685 peaks\n",
      "Found 18674 peaks\n",
      "Found 20027 peaks\n",
      "Found 24818 peaks\n",
      "Found 25754 peaks\n",
      "Found 22220 peaks\n",
      "Found 15055 peaks\n",
      "Found 15797 peaks\n",
      "Found 19353 peaks\n",
      "Found 21690 peaks\n",
      "Found 23216 peaks\n",
      "Found 19291 peaks\n",
      "Found 23944 peaks\n",
      "Found 21566 peaks\n",
      "Found 21567 peaks\n",
      "Found 25583 peaks\n",
      "Found 26459 peaks\n",
      "Found 15618 peaks\n",
      "Found 21236 peaks\n",
      "Found 21459 peaks\n"
     ]
    },
    {
     "data": {
      "image/png": "[encoded data removed]",
      "text/plain": [
       "<Figure size 720x360 with 1 Axes>"
      ]
     },
     "metadata": {
      "needs_background": "light"
     },
     "output_type": "display_data"
    },
    {
     "data": {
      "image/png": "[encoded data removed]",
      "text/plain": [
       "<Figure size 864x432 with 1 Axes>"
      ]
     },
     "metadata": {
      "needs_background": "light"
     },
     "output_type": "display_data"
    },
    {
     "data": {
      "image/png": "[encoded data removed]",
      "text/plain": [
       "<Figure size 864x432 with 1 Axes>"
      ]
     },
     "metadata": {
      "needs_background": "light"
     },
     "output_type": "display_data"
    },
    {
     "data": {
      "image/png": "[encoded data removed]",
      "text/plain": [
       "<Figure size 864x432 with 1 Axes>"
      ]
     },
     "metadata": {
      "needs_background": "light"
     },
     "output_type": "display_data"
    }
   ],
   "source": [
    "\n",
    "fHz = 100  # or the appropriate value for your data\n",
    "aggregated_data = aggregate_results(fish_data, fHz)\n",
    "plot_turning_bias(aggregated_data)\n",
    "plot_combined(aggregated_data)\n",
    "# plot_turn_bias_per_trial(aggregated_data)\n",
    "plot_turn_bias_boxplot(aggregated_data)"
   ]
  },
  {
   "cell_type": "code",
   "execution_count": 15,
   "metadata": {},
   "outputs": [],
   "source": [
    "def save_turn_bias_values(aggregated_data, file_path):\n",
    "    data_to_save = []\n",
    "    for fish_id, data in aggregated_data.items():\n",
    "        for trial_id, trial_data in data['turn_bias_per_trial'].items():\n",
    "            data_to_save.append({\n",
    "                'Fish ID': fish_id,\n",
    "                'Trial': trial_id,\n",
    "                'Left Turn Proportion': trial_data['left_turn_prop'],\n",
    "                'Right Turn Proportion': trial_data['right_turn_prop']\n",
    "            })\n",
    "\n",
    "    df_to_save = pd.DataFrame(data_to_save)\n",
    "    df_to_save.to_csv(file_path, index=False)\n",
    "\n",
    "# Example usage\n",
    "save_turn_bias_values(aggregated_data, '/home/kkumari/PhD/data-analysis/individual-behavior/long-term-free-turn_bias_values.csv')\n"
   ]
  },
  {
   "cell_type": "code",
   "execution_count": 16,
   "metadata": {},
   "outputs": [],
   "source": [
    "def plot_average_velocity_boxplot(avg_velocity_data):\n",
    "    plt.figure(figsize=(12, 6))\n",
    "    sns.boxplot(x='Fish ID', y='Average Velocity', data=avg_velocity_data, palette=\"Set3\")\n",
    "    plt.title('Average Velocity per Trial by Fish')\n",
    "    plt.xlabel('Fish ID')\n",
    "    plt.ylabel('Average Velocity')\n",
    "    plt.show()"
   ]
  },
  {
   "cell_type": "code",
   "execution_count": 17,
   "metadata": {},
   "outputs": [],
   "source": [
    "def save_average_velocity(fish_data, fHz, output_file_path):\n",
    "    avg_velocity_data = []\n",
    "    for fish_id, trials in fish_data.items():\n",
    "        for trial_id, file_path in trials.items():\n",
    "            df, _, _, _, _ = process_file(file_path, fHz)\n",
    "            avg_velocity = df['velocity'].mean()\n",
    "            avg_velocity_data.append({\n",
    "                'Fish ID': fish_id,\n",
    "                'Trial': trial_id,\n",
    "                'Average Velocity': avg_velocity\n",
    "            })\n",
    "\n",
    "    df_avg_velocity = pd.DataFrame(avg_velocity_data)\n",
    "    df_avg_velocity.to_csv(output_file_path, index=False)\n",
    "    return df_avg_velocity\n",
    "\n",
    "# Example usage\n",
    "fHz = 100  # Frames per secon\n",
    "\n",
    "# # Example usage\n",
    "# save_average_velocity(fish_data, fHz, output_file_path='/home/kkumari/PhD/data-analysis/individual-behavior/long-term-free-average_velocity.csv')\n",
    "# plot_average_velocity_boxplot(avg_velocity_data)"
   ]
  },
  {
   "cell_type": "code",
   "execution_count": 18,
   "metadata": {},
   "outputs": [
    {
     "name": "stdout",
     "output_type": "stream",
     "text": [
      "Found 22966 peaks\n",
      "Found 17358 peaks\n",
      "Found 23886 peaks\n",
      "Found 21639 peaks\n",
      "Found 23738 peaks\n",
      "Found 24074 peaks\n",
      "Found 19773 peaks\n",
      "Found 21808 peaks\n",
      "Found 27215 peaks\n",
      "Found 20925 peaks\n",
      "Found 20577 peaks\n",
      "Found 20187 peaks\n",
      "Found 17423 peaks\n",
      "Found 21658 peaks\n",
      "Found 24274 peaks\n",
      "Found 17624 peaks\n",
      "Found 19371 peaks\n",
      "Found 19867 peaks\n",
      "Found 21569 peaks\n",
      "Found 24094 peaks\n",
      "Found 25790 peaks\n",
      "Found 22120 peaks\n",
      "Found 23355 peaks\n",
      "Found 22936 peaks\n",
      "Found 13420 peaks\n",
      "Found 14839 peaks\n",
      "Found 19090 peaks\n",
      "Found 17254 peaks\n",
      "Found 18685 peaks\n",
      "Found 18674 peaks\n",
      "Found 20027 peaks\n",
      "Found 24818 peaks\n",
      "Found 25754 peaks\n",
      "Found 22220 peaks\n",
      "Found 15055 peaks\n",
      "Found 15797 peaks\n",
      "Found 19353 peaks\n",
      "Found 21690 peaks\n",
      "Found 23216 peaks\n",
      "Found 19291 peaks\n",
      "Found 23944 peaks\n",
      "Found 21566 peaks\n",
      "Found 21567 peaks\n",
      "Found 25583 peaks\n",
      "Found 26459 peaks\n",
      "Found 15618 peaks\n",
      "Found 21236 peaks\n",
      "Found 21459 peaks\n"
     ]
    }
   ],
   "source": [
    "fHz = 100  # Frames per second\n",
    "output_file_path = '/home/kkumari/PhD/data-analysis/individual-behavior/long-term-free-average_velocity.csv'  # Adjust the path as needed\n",
    "avg_velocity_data = save_average_velocity(fish_data, fHz, output_file_path)"
   ]
  },
  {
   "cell_type": "code",
   "execution_count": 19,
   "metadata": {},
   "outputs": [
    {
     "data": {
      "image/png": "[encoded data removed]",
      "text/plain": [
       "<Figure size 864x432 with 1 Axes>"
      ]
     },
     "metadata": {
      "needs_background": "light"
     },
     "output_type": "display_data"
    }
   ],
   "source": [
    "import matplotlib.pyplot as plt\n",
    "import seaborn as sns\n",
    "\n",
    "def plot_average_velocity_boxplot(avg_velocity_data):\n",
    "    plt.figure(figsize=(12, 6))\n",
    "    sns.boxplot(x='Fish ID', y='Average Velocity', data=avg_velocity_data, palette=\"Set3\")\n",
    "    sns.swarmplot(x='Fish ID', y='Average Velocity', data=avg_velocity_data, color=\".25\")\n",
    "    plt.title('Average Velocity per Trial by Fish')\n",
    "    plt.xlabel('Fish ID')\n",
    "    plt.ylabel('Average Velocity')\n",
    "    plt.show()\n",
    "\n",
    "# Assuming avg_velocity_data is the DataFrame created in save_average_velocity\n",
    "plot_average_velocity_boxplot(avg_velocity_data)"
   ]
  },
  {
   "cell_type": "code",
   "execution_count": 20,
   "metadata": {},
   "outputs": [],
   "source": [
    "# Create a list to hold the data\n",
    "data_to_save = []\n",
    "\n",
    "# Extract data from aggregated_data\n",
    "for fish_id, data in aggregated_data.items():\n",
    "    for metric, value in data.items():\n",
    "        if isinstance(value, list):  # If the metric contains a list of values\n",
    "            for v in value:\n",
    "                data_to_save.append({'Fish ID': fish_id, 'Metric': metric, 'Value': v})\n",
    "        else:  # If the metric is a single value\n",
    "            data_to_save.append({'Fish ID': fish_id, 'Metric': metric, 'Value': value})\n",
    "\n",
    "# Create a DataFrame\n",
    "df_to_save = pd.DataFrame(data_to_save)"
   ]
  },
  {
   "cell_type": "code",
   "execution_count": 21,
   "metadata": {},
   "outputs": [],
   "source": [
    "# Define the file path for the CSV file\n",
    "output_file_path = '/home/kkumari/PhD/data-analysis/individual-behavior/long-term-sd.csv'\n",
    "\n",
    "# Save the DataFrame to a CSV file\n",
    "df_to_save.to_csv(output_file_path, index=False)\n"
   ]
  }
 ],
 "metadata": {
  "kernelspec": {
   "display_name": "Python 3",
   "language": "python",
   "name": "python3"
  },
  "language_info": {
   "codemirror_mode": {
    "name": "ipython",
    "version": 3
   },
   "file_extension": ".py",
   "mimetype": "text/x-python",
   "name": "python",
   "nbconvert_exporter": "python",
   "pygments_lexer": "ipython3",
   "version": "3.10.7"
  }
 },
 "nbformat": 4,
 "nbformat_minor": 2
}
